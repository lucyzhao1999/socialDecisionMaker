{
 "cells": [
  {
   "cell_type": "code",
   "execution_count": 1,
   "metadata": {
    "ExecuteTime": {
     "end_time": "2019-04-30T00:26:22.456125Z",
     "start_time": "2019-04-30T00:26:22.246833Z"
    }
   },
   "outputs": [],
   "source": [
    "import numpy as np\n",
    "import math\n",
    "import matplotlib.pyplot as plt"
   ]
  },
  {
   "cell_type": "markdown",
   "metadata": {},
   "source": [
    "# Base Decision Class"
   ]
  },
  {
   "cell_type": "code",
   "execution_count": 2,
   "metadata": {
    "ExecuteTime": {
     "end_time": "2019-04-30T00:26:22.522185Z",
     "start_time": "2019-04-30T00:26:22.460081Z"
    }
   },
   "outputs": [],
   "source": [
    "class BaseDecisionMaker:\n",
    "    def __init__(self, rewardDictionary, meritVector, beta, numberOfAgents):\n",
    "        self.rewardDictionary = rewardDictionary\n",
    "        self.merit = meritVector\n",
    "        self.beta = beta\n",
    "        self.numberOfAgents = numberOfAgents\n",
    "        \n",
    "    def __call__(self, alphaVector):\n",
    "        utilityOfEfficiency = self.getUtilityOfEfficiency(alphaVector[0])\n",
    "        utilityOfInequity = self.getUtilityOfInequity(self.rewardDictionary, alphaVector[1])\n",
    "        baseUtility = self.getBaseDecisionUtility(utilityOfEfficiency, utilityOfInequity)  \n",
    "        return baseUtility\n",
    "        \n",
    "    def getUtilityOfEfficiency(self, agentWeights): \n",
    "        utilityOfEfficiencyDict = {action: sum([reward*weight for reward, weight in zip(self.rewardDictionary[action], agentWeights)]) for action in self.rewardDictionary.keys()}\n",
    "        return utilityOfEfficiencyDict\n",
    "    \n",
    "    def getInequityForAction(self, reward):\n",
    "        inequitySum = 0\n",
    "        for i in range(0, len(reward)):\n",
    "            for j in range(i + 1, len(self.merit)):\n",
    "                inequitySum = inequitySum + abs(reward[i] * self.merit[j] - reward[j] * self.merit[i])\n",
    "        return inequitySum\n",
    "    \n",
    "    def getUtilityOfInequity(self, expectedReward, weightForInequity):\n",
    "        actions = list(self.rewardDictionary.keys())\n",
    "        totalInequity = [self.getInequityForAction(expectedReward[action]) for action in actions]\n",
    "        weightedTotalInequityDic = {actions[i]: totalInequity[i] * weightForInequity for i in range(0, len(actions))}\n",
    "        return (weightedTotalInequityDic) \n",
    "    \n",
    "    def getBaseDecisionUtility(self, utilityOfEfficiencyDict, utilityOfInequityDict):\n",
    "        baseDecisionUtilitydic = {action: utilityOfEfficiencyDict[action] - utilityOfInequityDict[action] for action in\n",
    "                                  utilityOfEfficiencyDict.keys()}\n",
    "        return baseDecisionUtilitydic \n",
    "    \n",
    "    \n",
    "def getActionProbabilityGivenAlpha(baseUtility, beta):\n",
    "    weightedUtility = {action: math.exp(baseUtility[action] * beta) for action in baseUtility.keys()}\n",
    "    sumOfWeightedUtility = sum([weightedUtility[action] for action in baseUtility.keys()])\n",
    "    expDistribution = {action: weightedUtility[action] / sumOfWeightedUtility for action in baseUtility.keys()}\n",
    "    return expDistribution"
   ]
  },
  {
   "cell_type": "code",
   "execution_count": 3,
   "metadata": {},
   "outputs": [],
   "source": [
    "def getBaseUtilityDic(getActionExpectedUtilityGivenWeight, weightImpartial, alphaAIList):\n",
    "    baseUtilityDict = [[getUtilityFunc([weightImpartial, alphaAI]) for getUtilityFunc in getActionExpectedUtilityGivenWeight] for alphaAI in alphaAIList]\n",
    "    return baseUtilityDict\n",
    " \n",
    "def getFullActionProb(getActionProbabilityGivenAlpha, baseUtilityDict, alphaAIList):\n",
    "    fullActionProb = [[getActionProbabilityGivenAlpha (utility, beta) for utility in baseUtilityDict[i]] for i in range(len(alphaAIList))]\n",
    "    return fullActionProb\n",
    "\n",
    "def getBaseActionProb_Action(fullActionProb,alphaAIList, targetAction):\n",
    "    actionProb = [[fullActionProb[alphaAICase][index][targetAction] for index in range(len(fullActionProb[alphaAICase]))] for alphaAICase in range(len(alphaAIList))]\n",
    "    return actionProb\n",
    "\n",
    "def summarizeProb(probabilityList, alphaAIList, equalBonus):\n",
    "    prob_Summarized = [sum([sublist[i] for sublist in probabilityList]) / len(alphaAIList) for i in range(len(equalBonus))]\n",
    "    return prob_Summarized"
   ]
  },
  {
   "cell_type": "markdown",
   "metadata": {},
   "source": [
    "# Part 2 Judge"
   ]
  },
  {
   "cell_type": "code",
   "execution_count": 4,
   "metadata": {
    "ExecuteTime": {
     "end_time": "2019-04-30T00:26:22.600748Z",
     "start_time": "2019-04-30T00:26:22.526153Z"
    }
   },
   "outputs": [],
   "source": [
    "def createTupleWithAlpha(alphaPartial, numberOfAgents, partialAgent):\n",
    "    value = [alphaPartial] * numberOfAgents\n",
    "    value[partialAgent] = -alphaPartial\n",
    "    return tuple(value)\n",
    "\n",
    "class JudgePartiality:\n",
    "    def __init__(self, alphaPartial, numberOfAgents, alphaAI, beta, judgePrior):\n",
    "       \n",
    "        self.alphaPartial = alphaPartial\n",
    "        self.numberOfAgents = numberOfAgents\n",
    "        self.alphaAI = alphaAI\n",
    "        self.beta = beta\n",
    "        self.judgePrior = judgePrior\n",
    "                   \n",
    "    def __call__(self, getActionExpectedUtilityFunc):\n",
    "        \n",
    "        alphaVectorSet = self.getAlphaVectorSet(alphaPartial, numberOfAgents)\n",
    "        \n",
    "        baseActionProbGivenAlpha = self.getBaseActionProbGivenAlpha(alphaVectorSet, self.alphaAI, self.beta, getActionExpectedUtilityFunc)\n",
    "\n",
    "        #partial:\n",
    "        probOfAlphaGivenPartial = self.getProbOfAlphaGivenPartial(self.alphaPartial, alphaVectorSet, self.numberOfAgents)\n",
    "        probOfAlpha_Partial = self.getProbOfAlpha(self.judgePrior, probOfAlphaGivenPartial)\n",
    "        probOfPartial_alphaGivenAction = self.getProbOfPartialAndAlphaGivenAction(probOfAlpha_Partial, baseActionProbGivenAlpha)  \n",
    "        \n",
    "        # impartial condition\n",
    "        probOfAlphaGivenImpartial = self.getProbOfAlphaGivenImpartial(alphaVectorSet)\n",
    "        probOfAlpha_Impartial = self.getProbOfAlpha(self.judgePrior, probOfAlphaGivenImpartial)\n",
    "        probOfImpartial_alphaGivenAction = self.getProbOfPartialAndAlphaGivenAction(probOfAlpha_Impartial, baseActionProbGivenAlpha)  \n",
    "                    \n",
    "        probOfPartial = self.getNormalizedProbOfPartial_alphaGivenAction(probOfPartial_alphaGivenAction,probOfImpartial_alphaGivenAction)\n",
    "        return probOfPartial\n",
    "\n",
    "\n",
    "    def getAlphaVectorSet(self,alphaPartial, numberOfAgents):\n",
    "        alphaVector = [createTupleWithAlpha(alphaPartial, numberOfAgents, partialAgent) for partialAgent in range(numberOfAgents)]\n",
    "        alphaVector.append((1,)* numberOfAgents)\n",
    "        return alphaVector\n",
    "\n",
    "    def getBaseActionProbGivenAlpha(self,alphaVectorSet, alphaAI, beta, getUtilityFunc):\n",
    "        return {weight: getActionProbabilityGivenAlpha(getUtilityFunc([weight, alphaAI]),beta) for weight in alphaVectorSet}\n",
    "\n",
    "    # partial condition\n",
    "    def getProbOfAlphaGivenPartial (self,alphaPartial, alphaVectorSet, numberOfAgents):\n",
    "        probOfAlphaGivenPartial = {alphaVector: 1.0/numberOfAgents for alphaVector in alphaVectorSet}\n",
    "        probOfAlphaGivenPartial[(1,)*numberOfAgents] = 0\n",
    "        return probOfAlphaGivenPartial\n",
    "\n",
    "    def getProbOfAlpha(self,priorOfPartiality, probOfAlphaGivenPartiality):\n",
    "        probOfAlpha = {alphaVector: probOfAlphaGivenPartiality[alphaVector]* priorOfPartiality for alphaVector in probOfAlphaGivenPartiality.keys()}\n",
    "        return probOfAlpha\n",
    "\n",
    "    def getProbOfPartialAndAlphaGivenAction(self, probOfAlpha, baseActionProbGivenAlpha):\n",
    "        actionList = baseActionProbGivenAlpha.values()[1].keys()\n",
    "        prob = {action:{weight: baseActionProbGivenAlpha[weight][action]*prob for (weight,prob) in zip(baseActionProbGivenAlpha.keys(),probOfAlpha.values())} for action in actionList}\n",
    "        return prob\n",
    "\n",
    "    # impartial\n",
    "    def getProbOfAlphaGivenImpartial (self, alphaVectorSet):\n",
    "        probOfAlphaGivenImpartial = {alphaVector: 0 for alphaVector in alphaVectorSet}\n",
    "        probOfAlphaGivenImpartial[(1,)*numberOfAgents] = 1\n",
    "        return probOfAlphaGivenImpartial\n",
    "    \n",
    "    def getNormalizedProbOfPartial_alphaGivenAction(self, probOfPartial_alphaGivenAction, probOfImpartial_alphaGivenAction):\n",
    "        sumOfProbOfPartialGivenAction = [sum(list(probOfPartial_alphaGivenAction.values())[index].values()) for index in\n",
    "                                     range(len(probOfPartial_alphaGivenAction.keys()))]\n",
    "        sumOfProbOfImpartialGivenAction = [sum(list(probOfImpartial_alphaGivenAction.values())[index].values()) for index in\n",
    "                                       range(len(probOfImpartial_alphaGivenAction.keys()))]\n",
    "        sumOfProb = [probOfPartial + probOfImpartial for probOfPartial, probOfImpartial in\n",
    "                 zip(sumOfProbOfPartialGivenAction, sumOfProbOfImpartialGivenAction)]\n",
    "        probOfPartialGivenAction = {action: (partialProb/ sum) for (action,partialProb, sum) in zip(probOfPartial_alphaGivenAction.keys(),\n",
    "                                                                            sumOfProbOfPartialGivenAction, sumOfProb)}\n",
    "        return probOfPartialGivenAction\n",
    "\n"
   ]
  },
  {
   "cell_type": "code",
   "execution_count": 5,
   "metadata": {},
   "outputs": [],
   "source": [
    "def getProbOfPartial_total(getJudgePartiality, getActionExpectedUtilityGivenWeight, alphaAIList):\n",
    "    probOfPartial_total = [[getJudgePartiality[alphaAICase](getUtilityFunc) for getUtilityFunc in getActionExpectedUtilityGivenWeight] for alphaAICase in range(len(alphaAIList))] \n",
    "    return probOfPartial_total\n",
    "\n",
    "def getProbOfPartial_Action(probOfPartial_total, alphaAIList, targetAction):\n",
    "    probOfPartial_Action = [[probOfPartial_total[alphaAICase][index][targetAction] for index in range(len(probOfPartial_total[alphaAICase]))]for alphaAICase in range(len(alphaAIList))]\n",
    "    return probOfPartial_Action\n"
   ]
  },
  {
   "cell_type": "markdown",
   "metadata": {},
   "source": [
    "# Part3: Constructed Social Utility"
   ]
  },
  {
   "cell_type": "code",
   "execution_count": 6,
   "metadata": {
    "ExecuteTime": {
     "end_time": "2019-04-30T00:26:22.609815Z",
     "start_time": "2019-04-30T00:26:22.605259Z"
    }
   },
   "outputs": [],
   "source": [
    "def getConstructedUtility(alphaAI, probOfPartial, alphaPA, baseUtility):\n",
    "    constructedUtilityDict = {action: baseUtility[action] - alphaPA * probOfPartial[action] for action in probOfPartial.keys()}\n",
    "    return constructedUtilityDict"
   ]
  },
  {
   "cell_type": "code",
   "execution_count": 7,
   "metadata": {},
   "outputs": [],
   "source": [
    "def getFullConstructedProb(getConstructedUtility, getActionProbabilityGivenAlpha, alphaAIList, alphaPA, probOfPartial_total, baseUtilityDict):\n",
    "    constructUtility = [[getConstructedUtility (alphaAIList[alphaAICase], probOfPartial, alphaPA, utiDict) for probOfPartial, utiDict in zip(probOfPartial_total[alphaAICase], baseUtilityDict[alphaAICase])] for alphaAICase in range(len(alphaAIList))]\n",
    "    fullConstructedProb = [[getActionProbabilityGivenAlpha (constUtility, beta) for constUtility in constructUtility[alphaAICase]] for alphaAICase in range(len(alphaAIList))]\n",
    "    return fullConstructedProb\n",
    "\n",
    "def getConstructedProb_Action(fullConstructedProb, alphaAIList, targetAction):\n",
    "    constructedProb_Action = [[fullConstructedProb[alphaAICase][index][targetAction] for index in range(len(fullConstructedProb[alphaAICase]))] for alphaAICase in range(len(alphaAIList))]\n",
    "    return constructedProb_Action\n"
   ]
  },
  {
   "cell_type": "code",
   "execution_count": 8,
   "metadata": {},
   "outputs": [],
   "source": [
    "def createProbDicList(highBonus, lowBonus, equalBonusList, agentsCount):    \n",
    "    allocationList = [[lowBonus]* index + [highBonus] + [lowBonus] * (agentsCount - 1 - index) for index in range(0, agentsCount)]\n",
    "    biasDict = {\"Action\"+ str(index+1): allocation for index, allocation in zip(range(0, agentsCount), allocationList)}\n",
    "    dicList = list()\n",
    "    for index in range(0, len(equalBonusList)):\n",
    "        copyDict = {}\n",
    "        copyDict.update(biasDict)\n",
    "        copyDict[\"ActionEqual\"] =  [equalBonusList[index]] * agentsCount\n",
    "        dicList.append(copyDict)\n",
    "        del copyDict\n",
    "    return dicList"
   ]
  },
  {
   "cell_type": "markdown",
   "metadata": {},
   "source": [
    "# Experiment\n",
    "### All the parameters are obtained from the reference paper"
   ]
  },
  {
   "cell_type": "code",
   "execution_count": 9,
   "metadata": {},
   "outputs": [],
   "source": [
    "lambdaInput = 0.7\n",
    "alphaAIList = [np.random.exponential(lambdaInput) for i in range(10000)] # draw 10000 samples from exponential distribution\n",
    "absoluteEffort = 1"
   ]
  },
  {
   "cell_type": "code",
   "execution_count": 10,
   "metadata": {},
   "outputs": [],
   "source": [
    "beta = 0.003\n",
    "alphaPartial = 6\n",
    "alphaPA = 1350\n",
    "judgePrior = 0.5\n",
    "\n",
    "numberOfAgents = 2\n",
    "effort = [absoluteEffort, absoluteEffort]\n",
    "equalBonus = np.linspace(0,1200, 50)\n",
    "probDicList = createProbDicList(1000, 100, equalBonus, numberOfAgents)\n",
    "getActionExpectedUtilityGivenWeight = [BaseDecisionMaker(probabDict, effort, beta, numberOfAgents) for probabDict in probDicList]\n",
    "weightImpartial = [1, 1]"
   ]
  },
  {
   "cell_type": "markdown",
   "metadata": {},
   "source": [
    "## Result of Figure 1-d, base decision maker P(equal bonus)"
   ]
  },
  {
   "cell_type": "code",
   "execution_count": 11,
   "metadata": {
    "ExecuteTime": {
     "end_time": "2019-04-30T00:26:22.641353Z",
     "start_time": "2019-04-30T00:26:22.632748Z"
    }
   },
   "outputs": [],
   "source": [
    "baseUtilityDict = getBaseUtilityDic(getActionExpectedUtilityGivenWeight, weightImpartial, alphaAIList)\n",
    "fullActionProb = getFullActionProb(getActionProbabilityGivenAlpha, baseUtilityDict, alphaAIList)\n",
    "equalBonusProb = getBaseActionProb_Action(fullActionProb,alphaAIList, \"ActionEqual\")\n",
    "\n",
    "equalBonusProb_Summarized = summarizeProb(equalBonusProb, alphaAIList, equalBonus)"
   ]
  },
  {
   "cell_type": "markdown",
   "metadata": {},
   "source": [
    "# Result of Figure 1-d, partiality"
   ]
  },
  {
   "cell_type": "code",
   "execution_count": 12,
   "metadata": {
    "ExecuteTime": {
     "end_time": "2019-04-30T00:26:22.919945Z",
     "start_time": "2019-04-30T00:26:22.800532Z"
    },
    "scrolled": true
   },
   "outputs": [
    {
     "data": {
      "image/png": "[encoded data removed]",
      "text/plain": [
       "<Figure size 432x288 with 1 Axes>"
      ]
     },
     "metadata": {
      "needs_background": "light"
     },
     "output_type": "display_data"
    }
   ],
   "source": [
    "getJudgePartiality = [JudgePartiality (alphaPartial, numberOfAgents, alphaAI, beta, judgePrior) for alphaAI in alphaAIList]\n",
    "\n",
    "probOfPartial_total = getProbOfPartial_total(getJudgePartiality, getActionExpectedUtilityGivenWeight, alphaAIList)\n",
    "\n",
    "probOfPartial_unequalBonus = getProbOfPartial_Action(probOfPartial_total, alphaAIList, \"Action1\")\n",
    "probOfPartial_equalBonus = getProbOfPartial_Action(probOfPartial_total, alphaAIList, \"ActionEqual\")\n",
    "\n",
    "probOfPartial_unequalBonus_Summarized = summarizeProb(probOfPartial_unequalBonus, alphaAIList, equalBonus)\n",
    "probOfPartial_equalBonus_Summarized = summarizeProb(probOfPartial_equalBonus, alphaAIList, equalBonus)\n",
    "\n",
    "plt.plot(equalBonus, probOfPartial_unequalBonus_Summarized, color='grey', label = 'Unequal Allocation')\n",
    "plt.plot(equalBonus, probOfPartial_equalBonus_Summarized, color='blue', label = 'Equal Allocation')\n",
    "plt.legend(loc='upper left')\n",
    "plt.ylabel(\"Partiality\")\n",
    "plt.xlabel(\"Equal Bonus\")\n",
    "plt.ylim(-0.1,1.1)\n",
    "plt.show()"
   ]
  },
  {
   "cell_type": "markdown",
   "metadata": {},
   "source": [
    "# Result of Figure 1-d, Constructed Social Utility"
   ]
  },
  {
   "cell_type": "markdown",
   "metadata": {},
   "source": [
    "### AlphaVector = [1,1]"
   ]
  },
  {
   "cell_type": "code",
   "execution_count": 13,
   "metadata": {
    "ExecuteTime": {
     "end_time": "2019-04-30T00:26:23.022949Z",
     "start_time": "2019-04-30T00:26:22.923860Z"
    }
   },
   "outputs": [
    {
     "data": {
      "image/png": "[encoded data removed]",
      "text/plain": [
       "<Figure size 432x288 with 1 Axes>"
      ]
     },
     "metadata": {
      "needs_background": "light"
     },
     "output_type": "display_data"
    }
   ],
   "source": [
    "fullConstructedProb = getFullConstructedProb(getConstructedUtility, getActionProbabilityGivenAlpha, alphaAIList, alphaPA, probOfPartial_total, baseUtilityDict)\n",
    "\n",
    "equalBonusConstructedProb = getConstructedProb_Action(fullConstructedProb, alphaAIList, \"ActionEqual\")\n",
    "equalBonusConstructedProb_Summarized = summarizeProb(equalBonusConstructedProb, alphaAIList, equalBonus)\n",
    "\n",
    "plt.plot(equalBonus, equalBonusProb_Summarized, color='blue', label = 'Base')\n",
    "plt.plot(equalBonus, equalBonusConstructedProb_Summarized, color='grey', label = 'Constructed')\n",
    "plt.legend(loc='lower right')\n",
    "plt.ylabel(\"Probability of Equal Bonus\")\n",
    "plt.xlabel(\"Equal Bonus\")\n",
    "plt.ylim(0,1.1)\n",
    "plt.show()"
   ]
  },
  {
   "cell_type": "markdown",
   "metadata": {},
   "source": [
    "# Figure2: "
   ]
  },
  {
   "cell_type": "code",
   "execution_count": 14,
   "metadata": {
    "ExecuteTime": {
     "end_time": "2019-04-30T00:26:23.237686Z",
     "start_time": "2019-04-30T00:26:23.232753Z"
    }
   },
   "outputs": [],
   "source": [
    "numberOfAgents = 2\n",
    "beta = 0.003\n",
    "alphaPartial = 6\n",
    "alphaPA = 1350\n",
    "judgePrior = 0.5\n",
    "effort = [absoluteEffort, absoluteEffort]\n",
    "\n",
    "equalBonus = [0, 100, 500, 1000, 1100]\n",
    "weightImpartial = [1, 1]\n",
    "\n",
    "probDicList = createProbDicList(1000, 100, equalBonus, numberOfAgents)\n",
    "getActionExpectedUtilityGivenWeight = [BaseDecisionMaker(probabDict, effort, beta, numberOfAgents) for probabDict in probDicList]"
   ]
  },
  {
   "cell_type": "code",
   "execution_count": 15,
   "metadata": {
    "ExecuteTime": {
     "end_time": "2019-04-30T00:26:23.359050Z",
     "start_time": "2019-04-30T00:26:23.243707Z"
    }
   },
   "outputs": [],
   "source": [
    "weightImpartial = [1, 1]\n",
    "baseUtilityDict = getBaseUtilityDic(getActionExpectedUtilityGivenWeight, weightImpartial, alphaAIList)\n",
    "\n",
    "\n",
    "# partiality\n",
    "getJudgePartiality = [JudgePartiality (alphaPartial, numberOfAgents, alphaAI, beta, judgePrior) for alphaAI in alphaAIList]\n",
    "probOfPartial_total = getProbOfPartial_total(getJudgePartiality, getActionExpectedUtilityGivenWeight, alphaAIList)\n",
    "\n",
    "probOfPartial_unequalBonus = getProbOfPartial_Action(probOfPartial_total, alphaAIList, \"Action1\")\n",
    "probOfPartial_equalBonus = getProbOfPartial_Action(probOfPartial_total, alphaAIList, \"ActionEqual\")\n",
    "\n",
    "probOfPartial_unequalBonus_Summarized = summarizeProb(probOfPartial_unequalBonus, alphaAIList, equalBonus)\n",
    "probOfPartial_equalBonus_Summarized = summarizeProb(probOfPartial_equalBonus, alphaAIList, equalBonus)\n",
    "\n",
    "\n",
    "#constructed\n",
    "fullConstructedProb = getFullConstructedProb(getConstructedUtility, getActionProbabilityGivenAlpha, alphaAIList, alphaPA, probOfPartial_total, baseUtilityDict)\n",
    "\n",
    "equalBonusConstructedProb = getConstructedProb_Action(fullConstructedProb, alphaAIList, \"ActionEqual\")\n",
    "equalBonusConstructedProb_Summarized = summarizeProb(equalBonusConstructedProb, alphaAIList, equalBonus)\n",
    "\n",
    "\n",
    "fairBonusConstructedProb = getConstructedProb_Action(fullConstructedProb, alphaAIList, \"Action1\")\n",
    "fairBonusConstructedProb_Summarized = summarizeProb(fairBonusConstructedProb, alphaAIList, equalBonus)\n"
   ]
  },
  {
   "cell_type": "code",
   "execution_count": 16,
   "metadata": {},
   "outputs": [
    {
     "data": {
      "image/png": "[encoded data removed]",
      "text/plain": [
       "<Figure size 432x288 with 1 Axes>"
      ]
     },
     "metadata": {
      "needs_background": "light"
     },
     "output_type": "display_data"
    }
   ],
   "source": [
    "plt.bar([str(bonus) for bonus in equalBonus], equalBonusConstructedProb_Summarized,color='blue',edgecolor='black')\n",
    "plt.ylabel(\"Probability of Equal Bonus\")\n",
    "plt.xlabel(\"Equal Bonus\")\n",
    "plt.title(\"Equal Merit, Equal Bonus\")\n",
    "plt.ylim((0, 1)) \n",
    "plt.show()"
   ]
  },
  {
   "cell_type": "code",
   "execution_count": 17,
   "metadata": {
    "ExecuteTime": {
     "end_time": "2019-04-30T00:26:23.447930Z",
     "start_time": "2019-04-30T00:26:23.362736Z"
    }
   },
   "outputs": [
    {
     "data": {
      "image/png": "[encoded data removed]",
      "text/plain": [
       "<Figure size 432x288 with 1 Axes>"
      ]
     },
     "metadata": {
      "needs_background": "light"
     },
     "output_type": "display_data"
    }
   ],
   "source": [
    "plt.bar([str(bonus) for bonus in equalBonus], probOfPartial_equalBonus_Summarized,color='blue',edgecolor='black')\n",
    "plt.ylabel(\"Partiality\")\n",
    "plt.xlabel(\"Equal Bonus\")\n",
    "plt.title(\"Equal Merit, Equal Bonus\")\n",
    "plt.ylim((0, 1)) \n",
    "plt.show()"
   ]
  },
  {
   "cell_type": "code",
   "execution_count": 18,
   "metadata": {},
   "outputs": [
    {
     "data": {
      "image/png": "[encoded data removed]",
      "text/plain": [
       "<Figure size 432x288 with 1 Axes>"
      ]
     },
     "metadata": {
      "needs_background": "light"
     },
     "output_type": "display_data"
    }
   ],
   "source": [
    "plt.bar([str(bonus) for bonus in equalBonus], probOfPartial_unequalBonus_Summarized,color='blue',edgecolor='black')\n",
    "plt.ylabel(\"Partiality\")\n",
    "plt.xlabel(\"Equal Bonus\")\n",
    "plt.title(\"Equal Merit, Unequal Bonus\")\n",
    "plt.ylim((0, 1)) \n",
    "plt.show()"
   ]
  },
  {
   "cell_type": "markdown",
   "metadata": {},
   "source": [
    "# Figure 3\n",
    "## Different Merit Condition: gamma1/ gamma2 = 4\n",
    "\n"
   ]
  },
  {
   "cell_type": "code",
   "execution_count": 19,
   "metadata": {},
   "outputs": [],
   "source": [
    "absoluteEffort = 1"
   ]
  },
  {
   "cell_type": "code",
   "execution_count": 20,
   "metadata": {
    "ExecuteTime": {
     "end_time": "2019-04-30T00:26:23.543303Z",
     "start_time": "2019-04-30T00:26:23.534890Z"
    }
   },
   "outputs": [],
   "source": [
    "numberOfAgents = 2\n",
    "beta = 0.003\n",
    "alphaPartial = 6\n",
    "alphaPA = 1350\n",
    "judgePrior = 0.5\n",
    "\n",
    "effort = [4*absoluteEffort, absoluteEffort]\n",
    "\n",
    "equalBonus = [0, 100, 500, 1000, 1100]\n",
    "probDicList = createProbDicList(1000, 100, equalBonus, numberOfAgents)\n",
    "\n",
    "getActionExpectedUtilityGivenWeight = [BaseDecisionMaker(probabDict, effort, beta, numberOfAgents) \n",
    "                                       for probabDict in probDicList]\n"
   ]
  },
  {
   "cell_type": "code",
   "execution_count": 21,
   "metadata": {},
   "outputs": [],
   "source": [
    "weightImpartial = [1, 1]\n",
    "baseUtilityDict = getBaseUtilityDic(getActionExpectedUtilityGivenWeight, weightImpartial, alphaAIList)\n",
    "\n",
    "\n",
    "# partiality\n",
    "getJudgePartiality = [JudgePartiality (alphaPartial, numberOfAgents, alphaAI, beta, judgePrior) for alphaAI in alphaAIList]\n",
    "probOfPartial_total = getProbOfPartial_total(getJudgePartiality, getActionExpectedUtilityGivenWeight, alphaAIList)\n",
    "\n",
    "probOfPartial_fairBonus = getProbOfPartial_Action(probOfPartial_total, alphaAIList, \"Action1\")\n",
    "probOfPartial_unfairBonus = getProbOfPartial_Action(probOfPartial_total, alphaAIList, \"Action2\")\n",
    "probOfPartial_equalBonus = getProbOfPartial_Action(probOfPartial_total, alphaAIList, \"ActionEqual\")\n",
    "\n",
    "probOfPartial_fairBonus_Summarized = summarizeProb(probOfPartial_fairBonus, alphaAIList, equalBonus)\n",
    "probOfPartial_unfairBonus_Summarized = summarizeProb(probOfPartial_unfairBonus, alphaAIList, equalBonus)\n",
    "probOfPartial_equalBonus_Summarized = summarizeProb(probOfPartial_equalBonus, alphaAIList, equalBonus)\n",
    "\n",
    "\n",
    "#constructed\n",
    "fullConstructedProb = getFullConstructedProb(getConstructedUtility, getActionProbabilityGivenAlpha, alphaAIList, alphaPA, probOfPartial_total, baseUtilityDict)\n",
    "\n",
    "equalBonusConstructedProb = getConstructedProb_Action(fullConstructedProb, alphaAIList, \"ActionEqual\")\n",
    "fairBonusConstructedProb = getConstructedProb_Action(fullConstructedProb, alphaAIList, \"Action1\")\n",
    "\n",
    "\n",
    "equalBonusConstructedProb_Summarized = summarizeProb(equalBonusConstructedProb, alphaAIList, equalBonus)\n",
    "fairBonusConstructedProb_Summarized = summarizeProb(fairBonusConstructedProb, alphaAIList, equalBonus)\n",
    "\n"
   ]
  },
  {
   "cell_type": "code",
   "execution_count": 22,
   "metadata": {},
   "outputs": [
    {
     "data": {
      "image/png": "[encoded data removed]",
      "text/plain": [
       "<Figure size 432x288 with 1 Axes>"
      ]
     },
     "metadata": {
      "needs_background": "light"
     },
     "output_type": "display_data"
    }
   ],
   "source": [
    "plt.bar([str(bonus) for bonus in equalBonus], equalBonusConstructedProb_Summarized,color='blue',edgecolor='black')\n",
    "plt.ylabel(\"Probability of Equal Bonus\")\n",
    "plt.xlabel(\"Equal Bonus\")\n",
    "plt.title(\"Unequal Merit, Equal Bonus\")\n",
    "plt.ylim((0, 1)) \n",
    "plt.show()"
   ]
  },
  {
   "cell_type": "markdown",
   "metadata": {},
   "source": [
    "### Action 1: Fair Bonus"
   ]
  },
  {
   "cell_type": "code",
   "execution_count": 23,
   "metadata": {},
   "outputs": [
    {
     "data": {
      "image/png": "[encoded data removed]",
      "text/plain": [
       "<Figure size 432x288 with 1 Axes>"
      ]
     },
     "metadata": {
      "needs_background": "light"
     },
     "output_type": "display_data"
    }
   ],
   "source": [
    "plt.bar([str(bonus) for bonus in equalBonus], fairBonusConstructedProb_Summarized,color='blue',edgecolor='black')\n",
    "plt.ylabel(\"Probability of Fair Bonus\")\n",
    "plt.xlabel(\"Equal Bonus\")\n",
    "plt.title(\"Unequal Merit, Fair Bonus\")\n",
    "plt.ylim((0, 1)) \n",
    "plt.show()"
   ]
  },
  {
   "cell_type": "markdown",
   "metadata": {},
   "source": [
    "## Partiality"
   ]
  },
  {
   "cell_type": "code",
   "execution_count": 24,
   "metadata": {},
   "outputs": [
    {
     "data": {
      "image/png": "[encoded data removed]",
      "text/plain": [
       "<Figure size 432x288 with 1 Axes>"
      ]
     },
     "metadata": {
      "needs_background": "light"
     },
     "output_type": "display_data"
    }
   ],
   "source": [
    "plt.bar([str(bonus) for bonus in equalBonus], probOfPartial_equalBonus_Summarized,color='blue',edgecolor='black')\n",
    "plt.ylabel(\"Partiality\")\n",
    "plt.xlabel(\"Equal Bonus\")\n",
    "plt.title(\"Unequal Merit, Equal Bonus\")\n",
    "plt.ylim((0, 1)) \n",
    "plt.show()"
   ]
  },
  {
   "cell_type": "code",
   "execution_count": 25,
   "metadata": {},
   "outputs": [
    {
     "data": {
      "image/png": "[encoded data removed]",
      "text/plain": [
       "<Figure size 432x288 with 1 Axes>"
      ]
     },
     "metadata": {
      "needs_background": "light"
     },
     "output_type": "display_data"
    }
   ],
   "source": [
    "plt.bar([str(bonus) for bonus in equalBonus], probOfPartial_fairBonus_Summarized,color='blue',edgecolor='black')\n",
    "plt.ylabel(\"Partiality\")\n",
    "plt.xlabel(\"Equal Bonus\")\n",
    "plt.title(\"Unequal Merit, Fair Bonus\")\n",
    "plt.ylim((0, 1)) \n",
    "plt.show()"
   ]
  },
  {
   "cell_type": "code",
   "execution_count": 26,
   "metadata": {},
   "outputs": [
    {
     "data": {
      "image/png": "[encoded data removed]",
      "text/plain": [
       "<Figure size 432x288 with 1 Axes>"
      ]
     },
     "metadata": {
      "needs_background": "light"
     },
     "output_type": "display_data"
    }
   ],
   "source": [
    "plt.bar([str(bonus) for bonus in equalBonus], probOfPartial_unfairBonus_Summarized,color='blue',edgecolor='black')\n",
    "plt.ylabel(\"Partiality\")\n",
    "plt.xlabel(\"Equal Bonus\")\n",
    "plt.title(\"Unequal Merit, Unfair Bonus\")\n",
    "plt.ylim((0, 1)) \n",
    "plt.show()"
   ]
  }
 ],
 "metadata": {
  "kernelspec": {
   "display_name": "Python 2",
   "language": "python",
   "name": "python2"
  },
  "language_info": {
   "codemirror_mode": {
    "name": "ipython",
    "version": 2
   },
   "file_extension": ".py",
   "mimetype": "text/x-python",
   "name": "python",
   "nbconvert_exporter": "python",
   "pygments_lexer": "ipython2",
   "version": "2.7.15"
  },
  "toc": {
   "base_numbering": 1,
   "nav_menu": {},
   "number_sections": true,
   "sideBar": true,
   "skip_h1_title": false,
   "title_cell": "Table of Contents",
   "title_sidebar": "Contents",
   "toc_cell": false,
   "toc_position": {},
   "toc_section_display": true,
   "toc_window_display": false
  }
 },
 "nbformat": 4,
 "nbformat_minor": 2
}
